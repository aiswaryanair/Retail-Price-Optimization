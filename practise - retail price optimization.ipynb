data_sold=pd.read_csv("/Cafe - Sell Meta Data.csv")
data_transactions=pd.read_csv("/Cafe - Transaction - Store.csv")
data_date=pd.read_csv("/Cafe - DateInfo.csv")
